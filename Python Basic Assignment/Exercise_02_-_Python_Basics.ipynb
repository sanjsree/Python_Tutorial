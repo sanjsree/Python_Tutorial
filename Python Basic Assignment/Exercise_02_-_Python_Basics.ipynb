{
 "cells": [
  {
   "cell_type": "markdown",
   "metadata": {},
   "source": [
    "# Python Basics 02\n",
    "## Exercise 02\n",
    "\n",
    "### Lists\n",
    "\n",
    "#### First List\n",
    "- Store the values 'python', 'c', and 'java' in a list. Print each of these values out, using their position in the list.\n",
    "\n",
    "#### First Neat List\n",
    "- Store the values 'python', 'c', and 'java' in a list. Print a statement about each of these values, using their position in the list.\n",
    "- Your statement could simply be, 'A nice programming language is *value*.'\n"
   ]
  },
  {
   "cell_type": "code",
   "execution_count": null,
   "metadata": {
    "collapsed": true
   },
   "outputs": [],
   "source": [
    "#YOUR CODE HERE"
   ]
  },
  {
   "cell_type": "markdown",
   "metadata": {},
   "source": [
    "#### Working List\n",
    "- Make a list that includes four careers, such as 'programmer' and 'truck driver'.\n",
    "- Use the *list.index()* function to find the index of one career in your list.\n",
    "- Use the *in* function to show that this career is in your list.\n",
    "- Use the *append()* function to add a new career to your list.\n",
    "- Use the *insert()* function to add a new career at the beginning of the list.\n",
    "- Use a loop to show all the careers in your list."
   ]
  },
  {
   "cell_type": "code",
   "execution_count": 71,
   "metadata": {},
   "outputs": [
    {
     "name": "stdout",
     "output_type": "stream",
     "text": [
      "True\n",
      "doc\n",
      "programmer\n",
      "truck\n",
      "business\n",
      "student\n",
      "engineer\n"
     ]
    }
   ],
   "source": [
    "carrer=['programmer','truck','business','student']\n",
    "carrer.index('truck')\n",
    "print('student' in carrer)\n",
    "carrer.append('engineer')\n",
    "carrer.insert(0,'doc')\n",
    "carrer\n",
    "for x in carrer:\n",
    "        print(x)"
   ]
  },
  {
   "cell_type": "markdown",
   "metadata": {},
   "source": [
    "#### Ordered Working List\n",
    "- Start with the list you created in *Working List*.\n",
    "- You are going to print out the list in a number of different orders.\n",
    "- Each time you print the list, use a for loop rather than printing the raw list.\n",
    "- Print a message each time telling us what order we should see the list in.\n",
    "    - Print the list in its original order.\n",
    "    - Print the list in alphabetical order.\n",
    "    - Print the list in reverse alphabetical order.\n",
    "    - Print the list in the reverse order from what it started.\n",
    "    - Permanently sort the list in alphabetical order, and then print it out.\n",
    "    - Permanently sort the list in reverse alphabetical order, and then print it out."
   ]
  },
  {
   "cell_type": "code",
   "execution_count": 72,
   "metadata": {},
   "outputs": [
    {
     "name": "stdout",
     "output_type": "stream",
     "text": [
      "zen\n",
      "doc\n",
      "programmer\n",
      "truck\n",
      "business\n",
      "student\n",
      "engineer\n",
      "\n",
      "\n",
      "business\n",
      "doc\n",
      "engineer\n",
      "programmer\n",
      "student\n",
      "truck\n",
      "zen\n",
      "\n",
      "\n",
      "zen\n",
      "truck\n",
      "student\n",
      "programmer\n",
      "engineer\n",
      "doc\n",
      "business\n",
      "zen\n",
      "truck\n",
      "student\n",
      "programmer\n",
      "engineer\n",
      "doc\n",
      "business\n"
     ]
    }
   ],
   "source": [
    "WorkingList=carrer\n",
    "WorkingList.insert(0,'zen')\n",
    "\n",
    "for list in WorkingList:\n",
    "    print(list)\n",
    "\n",
    "print()\n",
    "print()\n",
    "    \n",
    "for list in sorted(WorkingList):\n",
    "    print(list)\n",
    "    \n",
    "print()\n",
    "print()\n",
    "    \n",
    "for list in sorted(WorkingList, reverse=True):\n",
    "    print(list)\n",
    "    \n",
    "for list in sorted(WorkingList, reverse=True):\n",
    "    print(list)\n",
    "    "
   ]
  },
  {
   "cell_type": "code",
   "execution_count": 73,
   "metadata": {},
   "outputs": [
    {
     "name": "stdout",
     "output_type": "stream",
     "text": [
      "\n",
      "List in reverse order\n"
     ]
    },
    {
     "data": {
      "text/plain": [
       "['engineer', 'student', 'business', 'truck', 'programmer', 'doc', 'zen']"
      ]
     },
     "execution_count": 73,
     "metadata": {},
     "output_type": "execute_result"
    }
   ],
   "source": [
    "print('\\nList in reverse order')\n",
    "WorkingList.reverse()\n",
    "WorkingList"
   ]
  },
  {
   "cell_type": "code",
   "execution_count": 74,
   "metadata": {},
   "outputs": [
    {
     "data": {
      "text/plain": [
       "['business', 'doc', 'engineer', 'programmer', 'student', 'truck', 'zen']"
      ]
     },
     "execution_count": 74,
     "metadata": {},
     "output_type": "execute_result"
    }
   ],
   "source": [
    "WorkingList.sort()\n",
    "WorkingList"
   ]
  },
  {
   "cell_type": "code",
   "execution_count": 75,
   "metadata": {},
   "outputs": [
    {
     "data": {
      "text/plain": [
       "['zen', 'truck', 'student', 'programmer', 'engineer', 'doc', 'business']"
      ]
     },
     "execution_count": 75,
     "metadata": {},
     "output_type": "execute_result"
    }
   ],
   "source": [
    "WorkingList.sort(reverse=True)\n",
    "WorkingList"
   ]
  },
  {
   "cell_type": "code",
   "execution_count": null,
   "metadata": {
    "collapsed": true
   },
   "outputs": [],
   "source": []
  },
  {
   "cell_type": "markdown",
   "metadata": {},
   "source": [
    "#### Ordered Numbers\n",
    "- Make a list of 5 numbers, in a random order.\n",
    "- You are going to print out the list in a number of different orders.\n",
    "- Each time you print the list, use a for loop rather than printing the raw list.\n",
    "- Print a message each time telling us what order we should see the list in.\n",
    "    - Print the numbers in the original order.\n",
    "    - Print the numbers in increasing order.\n",
    "    - Print the numbers in decreasing order.\n",
    "    - Print the numbers in the reverse order from how they started.\n",
    "    - Permanently sort the numbers in increasing order, and then print them out.\n",
    "    - Permanently sort the numbers in descreasing order, and then print them out.\n",
    "\n",
    "#### List Lengths\n",
    "- Copy two or three of the lists you made from the previous exercises, or make up two or three new lists.\n",
    "- Print out a series of statements that tell us how long each list is."
   ]
  },
  {
   "cell_type": "code",
   "execution_count": null,
   "metadata": {
    "collapsed": true
   },
   "outputs": [],
   "source": [
    "#YOUR CODE HERE\n",
    "random=[1,34,78,4,76]\n",
    "for i in random:\n",
    "    print(i)\n",
    "\n",
    "print()\n",
    "print()\n",
    "\n",
    "for i in sorted(random):\n",
    "    print(i)\n",
    "    \n",
    "print()\n",
    "print()\n",
    "\n",
    "for i in sorted(random,reverse=True):\n",
    "    print(i)\n",
    "print()\n",
    "print()\n",
    "for i in reversed(random):\n",
    "    print(i)\n",
    "print()\n",
    "print()  "
   ]
  },
  {
   "cell_type": "code",
   "execution_count": 83,
   "metadata": {},
   "outputs": [
    {
     "name": "stdout",
     "output_type": "stream",
     "text": [
      "1\n",
      "4\n",
      "34\n",
      "76\n",
      "78\n",
      "\n",
      "\n",
      "78\n",
      "76\n",
      "34\n",
      "4\n",
      "1\n"
     ]
    }
   ],
   "source": [
    "\n",
    "num=[1,34,78,4,76]\n",
    "num.sort()\n",
    "for i in num:\n",
    "    print(i)\n",
    "print()\n",
    "print()   \n",
    "num.sort(reverse=True)\n",
    "for i in num:\n",
    "    print(i)\n"
   ]
  },
  {
   "cell_type": "markdown",
   "metadata": {},
   "source": [
    "#### Famous People\n",
    "- Make a list that includes the names of four famous people.\n",
    "- Remove each person from the list, one at a time, using each of the four methods we have just seen:\n",
    "    - Pop the last item from the list, and pop any item except the last item.\n",
    "    - Remove one item by its position, and one item by its value.\n",
    "- Print out a message that there are no famous people left in your list, and print your list to prove that it is empty."
   ]
  },
  {
   "cell_type": "code",
   "execution_count": 104,
   "metadata": {},
   "outputs": [
    {
     "name": "stdout",
     "output_type": "stream",
     "text": [
      "['sham', 'lam', 'tam', 'nam']\n",
      "['sham', 'tam', 'nam']\n",
      "['sham', 'tam']\n",
      "List is empty\n"
     ]
    },
    {
     "data": {
      "text/plain": [
       "[]"
      ]
     },
     "execution_count": 104,
     "metadata": {},
     "output_type": "execute_result"
    }
   ],
   "source": [
    "#YOUR CODE HERE\n",
    "\n",
    "famous=['ram','sham','lam','tam','nam']\n",
    "famous.remove('ram')\n",
    "print(famous)\n",
    "famous.pop(1)\n",
    "print(famous)\n",
    "\n",
    "famous.pop(len(famous)-1)\n",
    "print(famous)\n",
    "\n",
    "del famous[0]\n",
    "\n",
    "famous.pop(0)\n",
    "print(\"List is empty\")\n",
    "famous"
   ]
  },
  {
   "cell_type": "markdown",
   "metadata": {},
   "source": [
    "#### Alphabet Slices\n",
    "- Store the first ten letters of the alphabet in a list.\n",
    "- Use a slice to print out the first three letters of the alphabet.\n",
    "- Use a slice to print out any three letters from the middle of your list.\n",
    "- Use a slice to print out the letters from any point in the middle of your list, to the end."
   ]
  },
  {
   "cell_type": "code",
   "execution_count": 134,
   "metadata": {},
   "outputs": [
    {
     "data": {
      "text/plain": [
       "['d', 'e', 'f', 'g', 'h', 'i', 'j']"
      ]
     },
     "execution_count": 134,
     "metadata": {},
     "output_type": "execute_result"
    }
   ],
   "source": [
    "alphabet=['a','b','c','d','e','f','g','h','i','j']\n",
    "alphabet[:3]\n",
    "alphabet[:3]\n",
    "alphabet[3:]"
   ]
  },
  {
   "cell_type": "markdown",
   "metadata": {},
   "source": [
    "#### Protected List\n",
    "- Your goal in this exercise is to prove that copying a list protects the original list.\n",
    "- Make a list with three people's names in it.\n",
    "- Use a slice to make a copy of the entire list.\n",
    "- Add at least two new names to the new copy of the list.\n",
    "- Make a loop that prints out all of the names in the original list, along with a message that this is the original list.\n",
    "- Make a loop that prints out all of the names in the copied list, along with a message that this is the copied list."
   ]
  },
  {
   "cell_type": "code",
   "execution_count": 145,
   "metadata": {},
   "outputs": [
    {
     "name": "stdout",
     "output_type": "stream",
     "text": [
      "orginal :ram\n",
      "orginal :shyam\n",
      "orginal :ghanshyam\n",
      "copy :ram\n",
      "copy :shyam\n",
      "copy :ghanshyam\n",
      "copy :hen\n",
      "copy :ten\n"
     ]
    }
   ],
   "source": [
    "#YOUR CODE HERE\n",
    "\n",
    "names = ['ram','shyam','ghanshyam']\n",
    "ncopy=names[:]\n",
    "ncopy.append(\"hen\")\n",
    "ncopy.append(\"ten\")\n",
    "ncopy\n",
    "\n",
    "for i in names:\n",
    "    print(\"orginal :\"+i)\n",
    "    \n",
    "for i in ncopy:\n",
    "    print(\"copy :\"+i)"
   ]
  },
  {
   "cell_type": "markdown",
   "metadata": {},
   "source": [
    "#### First Twenty\n",
    "- Use the *range()* function to store the first twenty numbers (1-20) in a list, and print them out.\n",
    "\n",
    "#### Five Wallets\n",
    "- Imagine five wallets with different amounts of cash in them. Store these five values in a list, and print out the following sentences:\n",
    "    - \"The fattest wallet has $ *value* in it.\"\n",
    "    - \"The skinniest wallet has $ *value* in it.\"\n",
    "    - \"All together, these wallets have $ *value* in them.\""
   ]
  },
  {
   "cell_type": "code",
   "execution_count": 4,
   "metadata": {},
   "outputs": [
    {
     "name": "stdout",
     "output_type": "stream",
     "text": [
      "[1, 2, 3, 4, 5, 6, 7, 8, 9, 10, 11, 12, 13, 14, 15, 16, 17, 18, 19, 20]\n",
      "700\n",
      "30\n",
      "1190\n"
     ]
    }
   ],
   "source": [
    "#YOUR CODE HERE\n",
    "rng=list(range(1,21))\n",
    "print(rng)\n",
    "\n",
    "amount=[100,300,60,700,30]\n",
    "print(max(amount))\n",
    "print(min(amount))\n",
    "print(sum(amount))"
   ]
  },
  {
   "cell_type": "markdown",
   "metadata": {},
   "source": [
    "#### Multiples of Ten\n",
    "- Make a list of the first ten multiples of ten (10, 20, 30... 90, 100). There are a number of ways to do this, but try to do it using a list comprehension. Print out your list.\n",
    "\n",
    "#### Cubes\n",
    "- We saw how to make a list of the first ten squares. Make a list of the first ten cubes (1, 8, 27... 1000) using a list comprehension, and print them out.\n",
    "\n",
    "#### Awesomeness\n",
    "- Store five names in a list. Make a second list that adds the phrase \"is awesome!\" to each name, using a list comprehension. Print out the awesome version of the names.\n"
   ]
  },
  {
   "cell_type": "code",
   "execution_count": 25,
   "metadata": {},
   "outputs": [
    {
     "name": "stdout",
     "output_type": "stream",
     "text": [
      "['a isAwesome', 'b isAwesome', 'c isAwesome', 'd isAwesome', 'e isAwesome']\n"
     ]
    }
   ],
   "source": [
    "#YOUR CODE HERE\n",
    "# mul10=list(range(10,101,10))\n",
    "# mul10\n",
    "mul11=list(x *10 for x in range(1,11))\n",
    "mul11\n",
    "mul12=list(x **3 for x in range(1,11))\n",
    "mul12\n",
    "names=['a','b','c','d','e']\n",
    "print(list(x+' isAwesome' for x in names))"
   ]
  },
  {
   "cell_type": "markdown",
   "metadata": {},
   "source": [
    "#### Listing a Sentence\n",
    "- Store a single sentence in a variable. Use a for loop to print each character from your sentence on a separate line.\n",
    "\n",
    "#### Sentence List\n",
    "- Store a single sentence in a variable. Create a list from your sentence. Print your raw list (don't use a loop, just print the list).\n",
    "\n",
    "#### Sentence Slices\n",
    "- Store a sentence in a variable. Using slices, print out the first five characters, any five consecutive characters from the middle of the sentence, and the last five characters of the sentence."
   ]
  },
  {
   "cell_type": "code",
   "execution_count": null,
   "metadata": {
    "collapsed": true
   },
   "outputs": [],
   "source": [
    "#YOUR CODE HERE\n",
    "strr = \"This is a sentence\"\n",
    "for word in strr.split(\" \"):\n",
    "    print(word)\n",
    "    \n",
    "lword=list(word for word in strr.split(\" \"))\n",
    "print(lword)\n",
    "\n",
    "strr[:5]\n",
    "strr[len(strr)-5:]"
   ]
  },
  {
   "cell_type": "markdown",
   "metadata": {},
   "source": [
    "#### Finding Python\n",
    "- Store a sentence in a variable, making sure you use the word *Python* at least twice in the sentence.\n",
    "- Use the *in* keyword to prove that the word *Python* is actually in the sentence.\n",
    "- Use the *find()* function to show where the word *Python* first appears in the sentence.\n",
    "- Use the *rfind()* function to show the last place *Python* appears in the sentence.\n",
    "- Use the *count()* function to show how many times the word *Python* appears in your sentence.\n",
    "- Use the *split()* function to break your sentence into a list of words. Print the raw list, and use a loop to print each word on its own line.\n",
    "- Use the *replace()* function to change *Python* to *Ruby* in your sentence."
   ]
  },
  {
   "cell_type": "code",
   "execution_count": 53,
   "metadata": {},
   "outputs": [
    {
     "name": "stdout",
     "output_type": "stream",
     "text": [
      "True\n",
      "8\n",
      "33\n",
      "2\n",
      "This\n",
      "is\n",
      "python,\n",
      "it\n",
      "is\n",
      "awesome\n",
      "as\n",
      "python\n",
      "sting\n",
      "This is ruby, it is awesome as ruby sting\n"
     ]
    }
   ],
   "source": [
    "py=\"This is python, it is awesome as python sting\"\n",
    "print('python' in py)\n",
    "\n",
    "print(py.find('python'))\n",
    "print(py.rfind('python'))\n",
    "print(py.count('python'))\n",
    "\n",
    "x=list(x for x in py.split(\" \"))\n",
    "for y in x:\n",
    "    print(y)\n",
    "print(py.replace(\"python\",\"ruby\"))"
   ]
  },
  {
   "cell_type": "code",
   "execution_count": 38,
   "metadata": {},
   "outputs": [
    {
     "name": "stdout",
     "output_type": "stream",
     "text": [
      "This\n",
      "is\n",
      "a\n",
      "sentence\n",
      "['This', 'is', 'a', 'sentence']\n"
     ]
    },
    {
     "data": {
      "text/plain": [
       "'tence'"
      ]
     },
     "execution_count": 38,
     "metadata": {},
     "output_type": "execute_result"
    }
   ],
   "source": []
  }
 ],
 "metadata": {
  "anaconda-cloud": {},
  "kernelspec": {
   "display_name": "Python 3",
   "language": "python",
   "name": "python3"
  },
  "language_info": {
   "codemirror_mode": {
    "name": "ipython",
    "version": 3
   },
   "file_extension": ".py",
   "mimetype": "text/x-python",
   "name": "python",
   "nbconvert_exporter": "python",
   "pygments_lexer": "ipython3",
   "version": "3.7.4"
  },
  "toc": {
   "base_numbering": 1,
   "nav_menu": {},
   "number_sections": true,
   "sideBar": true,
   "skip_h1_title": false,
   "title_cell": "Table of Contents",
   "title_sidebar": "Contents",
   "toc_cell": false,
   "toc_position": {},
   "toc_section_display": true,
   "toc_window_display": false
  }
 },
 "nbformat": 4,
 "nbformat_minor": 1
}
